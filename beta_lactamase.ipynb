{
 "cells": [
  {
   "cell_type": "code",
   "execution_count": 6,
   "metadata": {
    "id": "X8oZwo9o9b5H"
   },
   "outputs": [],
   "source": [
    "#Regression following https://www.kaggle.com/chrisbutch/class-1-making-a-bad-chemical-model but using a random forest regressor\n",
    "#The 'bad' chemical model actually outperforms the one with the better chemical model\n",
    "\n",
    "import zipfile\n",
    "import pandas as pd\n",
    "\n",
    "zf = zipfile.ZipFile(\"beta_lactamase_CHEMBL29.zip\", \"r\")\n",
    "df = pd.concat( (pd.read_csv( zf.open(f) ) for f in zf.namelist() ) )"
   ]
  },
  {
   "cell_type": "code",
   "execution_count": 7,
   "metadata": {
    "id": "6280IPcZ9kWF"
   },
   "outputs": [],
   "source": [
    "df2 = df[df.pchembl_value.notnull()]\n",
    "df2=df2.dropna()"
   ]
  },
  {
   "cell_type": "code",
   "execution_count": 8,
   "metadata": {
    "colab": {
     "base_uri": "https://localhost:8080/",
     "height": 745
    },
    "id": "JGelt_cw9rjt",
    "outputId": "665ba953-4a1f-4aa5-a884-ba09fd13b248",
    "scrolled": true
   },
   "outputs": [
    {
     "data": {
      "text/html": [
       "<div>\n",
       "<style scoped>\n",
       "    .dataframe tbody tr th:only-of-type {\n",
       "        vertical-align: middle;\n",
       "    }\n",
       "\n",
       "    .dataframe tbody tr th {\n",
       "        vertical-align: top;\n",
       "    }\n",
       "\n",
       "    .dataframe thead th {\n",
       "        text-align: right;\n",
       "    }\n",
       "</style>\n",
       "<table border=\"1\" class=\"dataframe\">\n",
       "  <thead>\n",
       "    <tr style=\"text-align: right;\">\n",
       "      <th></th>\n",
       "      <th>molecule_chembl_id</th>\n",
       "      <th>canonical_smiles</th>\n",
       "      <th>standard_relation</th>\n",
       "      <th>standard_value</th>\n",
       "      <th>standard_units</th>\n",
       "      <th>standard_type</th>\n",
       "      <th>pchembl_value</th>\n",
       "      <th>target_pref_name</th>\n",
       "      <th>bao_label</th>\n",
       "    </tr>\n",
       "  </thead>\n",
       "  <tbody>\n",
       "    <tr>\n",
       "      <th>47</th>\n",
       "      <td>CHEMBL777</td>\n",
       "      <td>O=C(O)[C@H]1/C(=C/CO)O[C@@H]2CC(=O)N21</td>\n",
       "      <td>=</td>\n",
       "      <td>9.0</td>\n",
       "      <td>nM</td>\n",
       "      <td>IC50</td>\n",
       "      <td>8.05</td>\n",
       "      <td>Gil1</td>\n",
       "      <td>assay format</td>\n",
       "    </tr>\n",
       "    <tr>\n",
       "      <th>48</th>\n",
       "      <td>CHEMBL404</td>\n",
       "      <td>C[C@]1(Cn2ccnn2)[C@H](C(=O)O)N2C(=O)C[C@H]2S1(...</td>\n",
       "      <td>=</td>\n",
       "      <td>40.0</td>\n",
       "      <td>nM</td>\n",
       "      <td>IC50</td>\n",
       "      <td>7.40</td>\n",
       "      <td>Gil1</td>\n",
       "      <td>assay format</td>\n",
       "    </tr>\n",
       "    <tr>\n",
       "      <th>7</th>\n",
       "      <td>CHEMBL777</td>\n",
       "      <td>O=C(O)[C@H]1/C(=C/CO)O[C@@H]2CC(=O)N21</td>\n",
       "      <td>=</td>\n",
       "      <td>70.0</td>\n",
       "      <td>nM</td>\n",
       "      <td>IC50</td>\n",
       "      <td>7.16</td>\n",
       "      <td>Beta-lactamase SCO-1</td>\n",
       "      <td>single protein format</td>\n",
       "    </tr>\n",
       "    <tr>\n",
       "      <th>8</th>\n",
       "      <td>CHEMBL403</td>\n",
       "      <td>CC1(C)[C@H](C(=O)O)N2C(=O)C[C@H]2S1(=O)=O</td>\n",
       "      <td>=</td>\n",
       "      <td>6200.0</td>\n",
       "      <td>nM</td>\n",
       "      <td>IC50</td>\n",
       "      <td>5.21</td>\n",
       "      <td>Beta-lactamase SCO-1</td>\n",
       "      <td>single protein format</td>\n",
       "    </tr>\n",
       "    <tr>\n",
       "      <th>9</th>\n",
       "      <td>CHEMBL404</td>\n",
       "      <td>C[C@]1(Cn2ccnn2)[C@H](C(=O)O)N2C(=O)C[C@H]2S1(...</td>\n",
       "      <td>=</td>\n",
       "      <td>10.0</td>\n",
       "      <td>nM</td>\n",
       "      <td>IC50</td>\n",
       "      <td>8.00</td>\n",
       "      <td>Beta-lactamase SCO-1</td>\n",
       "      <td>single protein format</td>\n",
       "    </tr>\n",
       "    <tr>\n",
       "      <th>...</th>\n",
       "      <td>...</td>\n",
       "      <td>...</td>\n",
       "      <td>...</td>\n",
       "      <td>...</td>\n",
       "      <td>...</td>\n",
       "      <td>...</td>\n",
       "      <td>...</td>\n",
       "      <td>...</td>\n",
       "      <td>...</td>\n",
       "    </tr>\n",
       "    <tr>\n",
       "      <th>57</th>\n",
       "      <td>CHEMBL404</td>\n",
       "      <td>C[C@]1(Cn2ccnn2)[C@H](C(=O)O)N2C(=O)C[C@H]2S1(...</td>\n",
       "      <td>=</td>\n",
       "      <td>374.0</td>\n",
       "      <td>nM</td>\n",
       "      <td>IC50</td>\n",
       "      <td>6.43</td>\n",
       "      <td>Carbepenem-hydrolyzing beta-lactamase KPC</td>\n",
       "      <td>assay format</td>\n",
       "    </tr>\n",
       "    <tr>\n",
       "      <th>90</th>\n",
       "      <td>CHEMBL404</td>\n",
       "      <td>C[C@]1(Cn2ccnn2)[C@H](C(=O)O)N2C(=O)C[C@H]2S1(...</td>\n",
       "      <td>=</td>\n",
       "      <td>370.0</td>\n",
       "      <td>nM</td>\n",
       "      <td>IC50</td>\n",
       "      <td>6.43</td>\n",
       "      <td>Carbepenem-hydrolyzing beta-lactamase KPC</td>\n",
       "      <td>single protein format</td>\n",
       "    </tr>\n",
       "    <tr>\n",
       "      <th>91</th>\n",
       "      <td>CHEMBL777</td>\n",
       "      <td>O=C(O)[C@H]1/C(=C/CO)O[C@@H]2CC(=O)N21</td>\n",
       "      <td>=</td>\n",
       "      <td>10500.0</td>\n",
       "      <td>nM</td>\n",
       "      <td>IC50</td>\n",
       "      <td>4.98</td>\n",
       "      <td>Carbepenem-hydrolyzing beta-lactamase KPC</td>\n",
       "      <td>single protein format</td>\n",
       "    </tr>\n",
       "    <tr>\n",
       "      <th>107</th>\n",
       "      <td>CHEMBL777</td>\n",
       "      <td>O=C(O)[C@H]1/C(=C/CO)O[C@@H]2CC(=O)N21</td>\n",
       "      <td>=</td>\n",
       "      <td>11000.0</td>\n",
       "      <td>nM</td>\n",
       "      <td>Ki</td>\n",
       "      <td>4.96</td>\n",
       "      <td>Carbepenem-hydrolyzing beta-lactamase KPC</td>\n",
       "      <td>single protein format</td>\n",
       "    </tr>\n",
       "    <tr>\n",
       "      <th>109</th>\n",
       "      <td>CHEMBL404</td>\n",
       "      <td>C[C@]1(Cn2ccnn2)[C@H](C(=O)O)N2C(=O)C[C@H]2S1(...</td>\n",
       "      <td>=</td>\n",
       "      <td>74000.0</td>\n",
       "      <td>nM</td>\n",
       "      <td>Ki</td>\n",
       "      <td>4.13</td>\n",
       "      <td>Carbepenem-hydrolyzing beta-lactamase KPC</td>\n",
       "      <td>single protein format</td>\n",
       "    </tr>\n",
       "  </tbody>\n",
       "</table>\n",
       "<p>64408 rows × 9 columns</p>\n",
       "</div>"
      ],
      "text/plain": [
       "    molecule_chembl_id                                   canonical_smiles  \\\n",
       "47           CHEMBL777             O=C(O)[C@H]1/C(=C/CO)O[C@@H]2CC(=O)N21   \n",
       "48           CHEMBL404  C[C@]1(Cn2ccnn2)[C@H](C(=O)O)N2C(=O)C[C@H]2S1(...   \n",
       "7            CHEMBL777             O=C(O)[C@H]1/C(=C/CO)O[C@@H]2CC(=O)N21   \n",
       "8            CHEMBL403          CC1(C)[C@H](C(=O)O)N2C(=O)C[C@H]2S1(=O)=O   \n",
       "9            CHEMBL404  C[C@]1(Cn2ccnn2)[C@H](C(=O)O)N2C(=O)C[C@H]2S1(...   \n",
       "..                 ...                                                ...   \n",
       "57           CHEMBL404  C[C@]1(Cn2ccnn2)[C@H](C(=O)O)N2C(=O)C[C@H]2S1(...   \n",
       "90           CHEMBL404  C[C@]1(Cn2ccnn2)[C@H](C(=O)O)N2C(=O)C[C@H]2S1(...   \n",
       "91           CHEMBL777             O=C(O)[C@H]1/C(=C/CO)O[C@@H]2CC(=O)N21   \n",
       "107          CHEMBL777             O=C(O)[C@H]1/C(=C/CO)O[C@@H]2CC(=O)N21   \n",
       "109          CHEMBL404  C[C@]1(Cn2ccnn2)[C@H](C(=O)O)N2C(=O)C[C@H]2S1(...   \n",
       "\n",
       "    standard_relation  standard_value standard_units standard_type  \\\n",
       "47                  =             9.0             nM          IC50   \n",
       "48                  =            40.0             nM          IC50   \n",
       "7                   =            70.0             nM          IC50   \n",
       "8                   =          6200.0             nM          IC50   \n",
       "9                   =            10.0             nM          IC50   \n",
       "..                ...             ...            ...           ...   \n",
       "57                  =           374.0             nM          IC50   \n",
       "90                  =           370.0             nM          IC50   \n",
       "91                  =         10500.0             nM          IC50   \n",
       "107                 =         11000.0             nM            Ki   \n",
       "109                 =         74000.0             nM            Ki   \n",
       "\n",
       "     pchembl_value                           target_pref_name  \\\n",
       "47            8.05                                       Gil1   \n",
       "48            7.40                                       Gil1   \n",
       "7             7.16                       Beta-lactamase SCO-1   \n",
       "8             5.21                       Beta-lactamase SCO-1   \n",
       "9             8.00                       Beta-lactamase SCO-1   \n",
       "..             ...                                        ...   \n",
       "57            6.43  Carbepenem-hydrolyzing beta-lactamase KPC   \n",
       "90            6.43  Carbepenem-hydrolyzing beta-lactamase KPC   \n",
       "91            4.98  Carbepenem-hydrolyzing beta-lactamase KPC   \n",
       "107           4.96  Carbepenem-hydrolyzing beta-lactamase KPC   \n",
       "109           4.13  Carbepenem-hydrolyzing beta-lactamase KPC   \n",
       "\n",
       "                 bao_label  \n",
       "47            assay format  \n",
       "48            assay format  \n",
       "7    single protein format  \n",
       "8    single protein format  \n",
       "9    single protein format  \n",
       "..                     ...  \n",
       "57            assay format  \n",
       "90   single protein format  \n",
       "91   single protein format  \n",
       "107  single protein format  \n",
       "109  single protein format  \n",
       "\n",
       "[64408 rows x 9 columns]"
      ]
     },
     "execution_count": 8,
     "metadata": {},
     "output_type": "execute_result"
    }
   ],
   "source": [
    "df2"
   ]
  },
  {
   "cell_type": "code",
   "execution_count": 9,
   "metadata": {
    "id": "Jly34CED94Vm"
   },
   "outputs": [],
   "source": [
    "smiles = df2['canonical_smiles']\n",
    "y=df2['pchembl_value']"
   ]
  },
  {
   "cell_type": "code",
   "execution_count": 10,
   "metadata": {
    "id": "VLh7lXiV-NPt"
   },
   "outputs": [],
   "source": [
    "import matplotlib.pyplot as plt\n",
    "plt.style.use('seaborn-white')\n",
    "import pandas as pd\n",
    "import numpy as np"
   ]
  },
  {
   "cell_type": "code",
   "execution_count": 11,
   "metadata": {
    "colab": {
     "base_uri": "https://localhost:8080/",
     "height": 37
    },
    "id": "p7BSucfE-R2f",
    "outputId": "fa412193-d1f7-4144-f90f-fb68528e7a41"
   },
   "outputs": [
    {
     "data": {
      "text/plain": [
       "'abdE'"
      ]
     },
     "execution_count": 11,
     "metadata": {},
     "output_type": "execute_result"
    }
   ],
   "source": [
    "import re\n",
    "\n",
    "regex = re.compile('[^a-zA-Z]')\n",
    "#First parameter is the replacement, second parameter is your input string\n",
    "regex.sub('', 'ab3d*E')\n",
    "#Out: 'abdE'"
   ]
  },
  {
   "cell_type": "code",
   "execution_count": 12,
   "metadata": {
    "id": "D1lXxx4Y-vO8"
   },
   "outputs": [],
   "source": [
    "y=np.array(y)\n",
    "smiles=np.array(smiles)\n",
    "smiles=[str(i) for i in smiles]\n",
    "df3=pd.DataFrame({'smiles' : smiles, 'y_vals' : y})"
   ]
  },
  {
   "cell_type": "code",
   "execution_count": 13,
   "metadata": {
    "id": "LZVpB9-sA5S3"
   },
   "outputs": [],
   "source": [
    "df3['Simple_SMILES']=df3['smiles'].apply(lambda x: regex.sub('',x))"
   ]
  },
  {
   "cell_type": "code",
   "execution_count": 14,
   "metadata": {
    "id": "i6hItCnUBvPL"
   },
   "outputs": [],
   "source": [
    "elements=[*set(''.join(df3['Simple_SMILES']))]"
   ]
  },
  {
   "cell_type": "code",
   "execution_count": 15,
   "metadata": {
    "id": "DNxnGWP3Bzu-"
   },
   "outputs": [],
   "source": [
    "for element in elements:\n",
    "    df3[element]=df3['Simple_SMILES'].apply(lambda x:sum(map(lambda y: 1 if element in y else 0, x)))"
   ]
  },
  {
   "cell_type": "code",
   "execution_count": 16,
   "metadata": {
    "id": "0pTLdoX1ChFS"
   },
   "outputs": [],
   "source": [
    "X = df3[elements]\n",
    "y = df3['y_vals']"
   ]
  },
  {
   "cell_type": "code",
   "execution_count": 20,
   "metadata": {
    "id": "01WuYxxoCzxz"
   },
   "outputs": [],
   "source": [
    "from sklearn.ensemble import RandomForestRegressor\n",
    "\n",
    "reg=RandomForestRegressor()\n",
    "reg.fit(X,y)\n",
    "pred_chemblval=reg.predict(X)"
   ]
  },
  {
   "cell_type": "code",
   "execution_count": 21,
   "metadata": {
    "colab": {
     "base_uri": "https://localhost:8080/",
     "height": 441
    },
    "id": "to0jN_KxC5Hq",
    "outputId": "d67e4171-44b7-4f0c-cdbc-2fc7aef3bc05"
   },
   "outputs": [
    {
     "data": {
      "image/png": "[encoded data removed]",
      "text/plain": [
       "<Figure size 432x432 with 3 Axes>"
      ]
     },
     "metadata": {},
     "output_type": "display_data"
    }
   ],
   "source": [
    "import seaborn as sns\n",
    "from scipy import stats\n",
    "def r2(x, y):\n",
    "    return stats.pearsonr(x, y)[0] ** 2\n",
    "\n",
    "sns.jointplot(x=pred_chemblval,\n",
    "            y=y, \n",
    "            kind=\"reg\", \n",
    "            scatter_kws={\"s\": 1});"
   ]
  },
  {
   "cell_type": "code",
   "execution_count": 22,
   "metadata": {
    "colab": {
     "base_uri": "https://localhost:8080/"
    },
    "id": "WjCfelFeEBux",
    "outputId": "26798245-a877-40af-a873-5d4cb7cdaad2"
   },
   "outputs": [
    {
     "data": {
      "text/plain": [
       "0.6003947565091702"
      ]
     },
     "execution_count": 22,
     "metadata": {},
     "output_type": "execute_result"
    }
   ],
   "source": [
    "r2(y,pred_chemblval)"
   ]
  },
  {
   "cell_type": "code",
   "execution_count": 15,
   "metadata": {},
   "outputs": [],
   "source": [
    "#Clustering from iwatobipen's blog using Morgan fingerprints and Tanimoto Metric\n",
    "\n",
    "from rdkit import Chem"
   ]
  },
  {
   "cell_type": "code",
   "execution_count": 16,
   "metadata": {},
   "outputs": [],
   "source": [
    "mols=[Chem.MolFromSmiles(i) for i in smiles] "
   ]
  },
  {
   "cell_type": "code",
   "execution_count": 17,
   "metadata": {},
   "outputs": [],
   "source": [
    "from rdkit import Chem\n",
    "from rdkit.Chem import AllChem\n",
    "from rdkit.Chem import Draw\n",
    "from rdkit.Chem import DataStructs\n",
    "\n",
    "for mol in mols:\n",
    "    AllChem.Compute2DCoords(mol)\n",
    "X = []\n",
    "for mol in mols:\n",
    "    arr = np.zeros((0,))\n",
    "    fp = AllChem.GetMorganFingerprintAsBitVect(mol, 2)\n",
    "    DataStructs.ConvertToNumpyArray(fp, arr)\n",
    "    X.append(arr)"
   ]
  },
  {
   "cell_type": "code",
   "execution_count": null,
   "metadata": {},
   "outputs": [
    {
     "name": "stderr",
     "output_type": "stream",
     "text": [
      "/opt/miniconda3/envs/python2/lib/python3.7/site-packages/sklearn/manifold/_t_sne.py:699: FutureWarning: 'square_distances' has been introduced in 0.24 to help phase out legacy squaring behavior. The 'legacy' setting will be removed in 1.1 (renaming of 0.26), and the default setting will be changed to True. In 1.3, 'square_distances' will be removed altogether, and distances will be squared by default. Set 'square_distances'=True to silence this warning.\n",
      "  FutureWarning\n"
     ]
    }
   ],
   "source": [
    "#Reduce dimensions with TSNE and Tanimoto distance metric\n",
    "from sklearn.manifold import TSNE\n",
    "\n",
    "def tanimoto_dist(a,b):\n",
    "    dotprod = np.dot(a,b)\n",
    "    tc = dotprod / (np.sum(a) + np.sum(b) - dotprod)\n",
    "    return 1.0-tc\n",
    "\n",
    "tsne = TSNE(n_components=2, metric=tanimoto_dist)\n",
    "tsne_X = tsne.fit_transform(X)\n",
    "print(tsne_X.shape)"
   ]
  },
  {
   "cell_type": "code",
   "execution_count": null,
   "metadata": {},
   "outputs": [],
   "source": [
    "plt.scatter(tsne_X.T[0], tsne_X.T[1], color='b')"
   ]
  }
 ],
 "metadata": {
  "colab": {
   "name": "Untitled3.ipynb",
   "provenance": []
  },
  "kernelspec": {
   "display_name": "Python 3",
   "language": "python",
   "name": "python3"
  },
  "language_info": {
   "codemirror_mode": {
    "name": "ipython",
    "version": 3
   },
   "file_extension": ".py",
   "mimetype": "text/x-python",
   "name": "python",
   "nbconvert_exporter": "python",
   "pygments_lexer": "ipython3",
   "version": "3.7.10"
  }
 },
 "nbformat": 4,
 "nbformat_minor": 1
}
